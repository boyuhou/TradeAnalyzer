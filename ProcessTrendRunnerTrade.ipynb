{
 "cells": [
  {
   "cell_type": "code",
   "execution_count": null,
   "metadata": {},
   "outputs": [],
   "source": [
    "import os\n",
    "import pandas as pd;pd.__version__"
   ]
  },
  {
   "cell_type": "code",
   "execution_count": null,
   "metadata": {},
   "outputs": [],
   "source": [
    "data_path = r'E:\\Dropbox\\Trade\\MarketData\\700base\\GBPAUD.csv'\n",
    "trade_path = r'E:\\Dropbox\\Trade\\MarketData\\700base\\GBPAUD_1.txt'"
   ]
  },
  {
   "cell_type": "code",
   "execution_count": null,
   "metadata": {},
   "outputs": [],
   "source": [
    "trade_df=pd.read_csv(trade_path, parse_dates=['EntryDateTime', 'ExitDateTime'])\n",
    "trade_df['Direction'] = trade_df['Direction'].str.replace('TR Entry ', '')"
   ]
  },
  {
   "cell_type": "code",
   "execution_count": null,
   "metadata": {},
   "outputs": [],
   "source": [
    "trade_df.head()"
   ]
  },
  {
   "cell_type": "code",
   "execution_count": null,
   "metadata": {},
   "outputs": [],
   "source": [
    "df = pd.read_csv(data_path, parse_dates=['TickDateTime']).set_index('TickDateTime')\n",
    "df = df.loc[~df.index.duplicated(keep='first')]"
   ]
  },
  {
   "cell_type": "code",
   "execution_count": null,
   "metadata": {},
   "outputs": [],
   "source": [
    "def get_min_max_mae_of_bar(entry_time, exit_time, df):\n",
    "    return df.loc[entry_time:exit_time,'HighPrice'].max(), df.loc[entry_time:exit_time,'LowPrice'].min()"
   ]
  },
  {
   "cell_type": "code",
   "execution_count": null,
   "metadata": {},
   "outputs": [],
   "source": [
    "for row_index, row in trade_df.iterrows():\n",
    "    trade_entry_time = row['EntryDateTime']\n",
    "    trade_exit_time = row['ExitDateTime']\n",
    "\n",
    "    try:\n",
    "        df.loc[trade_entry_time]\n",
    "    except KeyError:\n",
    "        print('Unable to find entry time, use the next available')\n",
    "        trade_entry_time = df.loc[trade_entry_time:].index[0]\n",
    "#     print(f'{trade_entry_time}, {row_index}')\n",
    "\n",
    "    try:\n",
    "        df.loc[trade_exit_time]\n",
    "    except KeyError:\n",
    "        print('Unable to find exit time, use the next available')\n",
    "        trade_exit_time = df.loc[trade_exit_time:].index[0]\n",
    "\n",
    "    bg_bar_number_name = 'BgHtfBarNumber'\n",
    "    bg_entry_bar_number = df.loc[trade_entry_time, bg_bar_number_name]\n",
    "    bg_exit_bar_number = df.loc[trade_exit_time, bg_bar_number_name]\n",
    "    \n",
    "    max_value, min_value = get_min_max_mae_of_bar(trade_entry_time, trade_exit_time, df)\n",
    "    \n",
    "    if row['Direction'] == 'Long':\n",
    "        trade_df.loc[row_index, 'MAE'] = min_value\n",
    "        trade_df.loc[row_index, 'MFE'] = max_value\n",
    "    else:\n",
    "        trade_df.loc[row_index, 'MAE'] = max_value\n",
    "        trade_df.loc[row_index, 'MFE'] = min_value\n",
    "    \n",
    "    try:\n",
    "        for i in range(0,5):\n",
    "            _entry_index = df[df[bg_bar_number_name] == bg_entry_bar_number + i].index[-1] \n",
    "            max_value, min_value = get_min_max_mae_of_bar(trade_entry_time, _entry_index, df)\n",
    "            trade_df.loc[row_index, f'EntryBar{i+1}Price'] = df.loc[_entry_index, 'ClosePrice']\n",
    "            \n",
    "            if row['Direction'] == 'Long':\n",
    "                trade_df.loc[row_index, f'P{i+1}_EntryMAE'] = min_value\n",
    "                trade_df.loc[row_index, f'P{i+1}_EntryMFE'] = max_value\n",
    "            else:\n",
    "                trade_df.loc[row_index, f'P{i+1}_EntryMAE'] = max_value\n",
    "                trade_df.loc[row_index, f'P{i+1}_EntryMFE'] = min_value\n",
    "        \n",
    "        for i in range(0,5):\n",
    "            _exit_index = df[df[bg_bar_number_name] == bg_exit_bar_number + i].index[-1] \n",
    "            max_value, min_value = get_min_max_mae_of_bar(trade_exit_time, _exit_index, df)\n",
    "            trade_df.loc[row_index, f'ExitBar{i+1}Price'] = df.loc[_exit_index, 'ClosePrice']\n",
    "            \n",
    "            if row['Direction'] == 'Long':\n",
    "                trade_df.loc[row_index, f'P{i+1}_ExitMAE'] = min_value\n",
    "                trade_df.loc[row_index, f'P{i+1}_ExitMFE'] = max_value\n",
    "            else:\n",
    "                trade_df.loc[row_index, f'P{i+1}_ExitMAE'] = max_value\n",
    "                trade_df.loc[row_index, f'P{i+1}_ExitMFE'] = min_value\n",
    "    except IndexError:\n",
    "        pass\n",
    "\n",
    "    fetch_columns = ['BgAtr', 'BgVWAP', 'BgVWAPMigrating', 'BgYellow', 'BgGreen', 'BgGreenPrior','BgVPOC', 'BgVPOCPrior', 'BgTrendState', 'BgTwoPeriodHigh', 'BgTwoPeriodLow', 'BgValueArea', 'FtAtr', 'FtVWAP', 'FtVWAPMigrating', 'FtYellow', 'FtGreen', 'FtGreenPrior', 'FtVPOC', 'FtVPOCPrior', 'FtTrendState', 'FtTwoPeriodHigh', 'FtTwoPeriodLow', 'FtValueArea', 'BgChannelTop', 'BgChannelBottom', 'FtChannelTop', 'FtChannelBottom', 'BgTrendRunnerNumber', 'FtTrendRunnerNumber', 'BgHtfBarCount', 'BgHtfBarCountPrior', 'FtHtfBarCount', 'FtHtfBarCountPrior', 'Htf2TrendRunnerNumber', 'Htf2VWAPMigrating', 'Htf2HtfBarCount']\n",
    "    for _column in fetch_columns:\n",
    "        trade_df.loc[row_index, _column] = df.loc[trade_entry_time, _column]\n"
   ]
  },
  {
   "cell_type": "code",
   "execution_count": null,
   "metadata": {},
   "outputs": [],
   "source": [
    "fixed_columns = ['Ticker','EntryDateTime','Direction','EntryReason','EntryPrice','InitialStopLoss','InitialProfitTarget','TimeFrame','ExitDateTime','PreventStopLoss','ProfitTargetCondition','ExitPrice','ExitReason','MAE','MFE','EntryBar1Price','P1_EntryMAE','P1_EntryMFE','EntryBar2Price','P2_EntryMAE','P2_EntryMFE','EntryBar3Price','P3_EntryMAE','P3_EntryMFE','EntryBar4Price','P4_EntryMAE','P4_EntryMFE','EntryBar5Price','P5_EntryMAE','P5_EntryMFE','ExitBar5Price','P5_ExitMAE','P5_ExitMFE','BgAtr','BgVWAP','BgVWAPMigrating','BgYellow','BgGreen','BgGreenPrior','BgVPOC','BgVPOCPrior','BgTrendState','BgTwoPeriodHigh','BgTwoPeriodLow','BgValueArea','FtAtr','FtVWAP','FtVWAPMigrating','FtYellow','FtGreen','FtGreenPrior','FtVPOC','FtVPOCPrior','FtTrendState','FtTwoPeriodHigh','FtTwoPeriodLow','FtValueArea','BgChannelTop','BgChannelBottom','FtChannelTop','FtChannelBottom']\n",
    "new_columns = [c for c in trade_df.columns if c not in fixed_columns]"
   ]
  },
  {
   "cell_type": "code",
   "execution_count": null,
   "metadata": {},
   "outputs": [],
   "source": [
    "trade_processed_path = trade_path.replace('.txt', '_processed.csv')\n",
    "trade_df[fixed_columns+new_columns].to_csv(trade_processed_path, index=False)"
   ]
  },
  {
   "cell_type": "code",
   "execution_count": null,
   "metadata": {},
   "outputs": [],
   "source": []
  }
 ],
 "metadata": {
  "kernelspec": {
   "display_name": "Python 3",
   "language": "python",
   "name": "python3"
  },
  "language_info": {
   "codemirror_mode": {
    "name": "ipython",
    "version": 3
   },
   "file_extension": ".py",
   "mimetype": "text/x-python",
   "name": "python",
   "nbconvert_exporter": "python",
   "pygments_lexer": "ipython3",
   "version": "3.7.4"
  }
 },
 "nbformat": 4,
 "nbformat_minor": 4
}
