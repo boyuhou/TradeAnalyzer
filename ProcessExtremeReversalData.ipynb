{
 "cells": [
  {
   "cell_type": "code",
   "execution_count": null,
   "metadata": {},
   "outputs": [],
   "source": [
    "import os\n",
    "import pandas as pd;pd.__version__"
   ]
  },
  {
   "cell_type": "code",
   "execution_count": null,
   "metadata": {},
   "outputs": [],
   "source": [
    "trade_folder = r'TradeOutput'\n",
    "data_folder = r'DataOutput'\n",
    "ticker = 'CL ##-##'"
   ]
  },
  {
   "cell_type": "code",
   "execution_count": null,
   "metadata": {},
   "outputs": [],
   "source": [
    "def get_filter_time_frame(trade_time_frame):\n",
    "    if trade_time_frame == 'Id3':\n",
    "        return 'Id2'\n",
    "    if trade_time_frame == 'Id2':\n",
    "        return 'Id1'\n",
    "    if trade_time_frame == 'Id1':\n",
    "        return 'Daily'\n",
    "    raise KeyError(trade_time_frame + 'is not supported.')"
   ]
  },
  {
   "cell_type": "code",
   "execution_count": null,
   "metadata": {},
   "outputs": [],
   "source": [
    "df = pd.read_csv(os.path.join(data_folder, ticker +'.csv'), parse_dates=['TickDateTime']).set_index('TickDateTime')\n",
    "df = df.loc[~df.index.duplicated(keep='first')]"
   ]
  },
  {
   "cell_type": "code",
   "execution_count": null,
   "metadata": {},
   "outputs": [],
   "source": [
    "trade_df = pd.read_csv(os.path.join(trade_folder, ticker + '.csv'), names=['Direction', 'TimeFrame', 'Ticker', 'Quantity', 'EntryTime', 'EntryPrice', 'PeelTime', 'PeelPrice', 'StopPrice','TargetPrice','ATR','FtATR','BgMarketEnv','FtMarketEnv','BgVPOC','BgVAH','BgVAL','FtVPOC','FtVAH','FtVAL','NextBar1Price','NextBar2Price','NextBar3Price','MAE', 'MFE'], parse_dates=['EntryTime', 'PeelTime']);trade_df.head()"
   ]
  },
  {
   "cell_type": "code",
   "execution_count": null,
   "metadata": {},
   "outputs": [],
   "source": [
    "for row_index, row in trade_df[trade_df['MFE'].isnull()].iterrows():\n",
    "    trade_time_frame = row['TimeFrame'].lower().title()\n",
    "    filter_time_frame = get_filter_time_frame(trade_time_frame)\n",
    "    trade_entry_time = row['EntryTime']\n",
    "    trade_entry_price = row['EntryPrice']\n",
    "    trade_exit_time = row['PeelTime']\n",
    "    \n",
    "    # ATR of the trade\n",
    "    _atr = df.loc[trade_entry_time, trade_time_frame + 'Atr']\n",
    "    trade_df.loc[row_index, 'ATR'] = _atr\n",
    "    trade_df.loc[row_index, 'FtATR'] = df.loc[trade_entry_time, filter_time_frame + 'Atr']\n",
    "    \n",
    "    # Background / Filter MarketEnv\n",
    "    trade_df.loc[row_index, 'BgMarketEnv'] = df.loc[trade_entry_time, trade_time_frame + 'MarketEnv']\n",
    "    trade_df.loc[row_index, 'FtMarketEnv'] = df.loc[trade_entry_time, filter_time_frame + 'MarketEnv']\n",
    "    \n",
    "    # Background / Filter VPOC\n",
    "    trade_df.loc[row_index, 'BgVPOC'] = df.loc[trade_entry_time, trade_time_frame + 'VPOC']\n",
    "    trade_df.loc[row_index, 'BgVAL'] = df.loc[trade_entry_time, trade_time_frame + 'VAL']\n",
    "    trade_df.loc[row_index, 'BgVAH'] = df.loc[trade_entry_time, trade_time_frame + 'VAH']\n",
    "    trade_df.loc[row_index, 'FtVPOC'] = df.loc[trade_entry_time, filter_time_frame + 'VPOC']\n",
    "    trade_df.loc[row_index, 'FtVAL'] = df.loc[trade_entry_time, filter_time_frame + 'VAL']\n",
    "    trade_df.loc[row_index, 'FtVAH'] = df.loc[trade_entry_time, filter_time_frame + 'VAH']\n",
    "    \n",
    "    # Stop Price of the trade based on ATR\n",
    "    atr_ratio = 0.4\n",
    "    stop_amount = _atr * atr_ratio\n",
    "    if row['Direction'] == 'Long':\n",
    "        stop_amount = -1 * stop_amount\n",
    "    trade_df.loc[row_index, 'StopPrice'] = trade_entry_price + stop_amount\n",
    "    \n",
    "    # Target Price is based on Envelope price, if it is not as 1 to 1, then move to filter Envelope\n",
    "    bg_envelope_top = df.loc[trade_entry_time, trade_time_frame + 'EnvelopeHigh']\n",
    "    bg_envelope_bottom = df.loc[trade_entry_time, trade_time_frame + 'EnvelopeLow']\n",
    "    ft_envelope_top = df.loc[trade_entry_time, filter_time_frame + 'EnvelopeHigh']\n",
    "    ft_envelope_bottom = df.loc[trade_entry_time, filter_time_frame + 'EnvelopeLow']\n",
    "    if row['Direction'] == 'Long':\n",
    "        target_price = bg_envelope_top if (bg_envelope_top - trade_entry_price) >= stop_amount else ft_envelope_top\n",
    "    else:\n",
    "        target_price = bg_envelope_bottom if (trade_entry_price - bg_envelope_bottom) >= stop_amount else ft_envelope_bottom\n",
    "    trade_df.loc[row_index, 'TargetPrice'] = target_price\n",
    "    \n",
    "    bg_bar_number_name = trade_time_frame + 'BarNumber'\n",
    "    bg_bar_number = df.loc[trade_exit_time, bg_bar_number_name]\n",
    "    \n",
    "    # Next Close Bar 1\n",
    "    trade_df.loc[row_index, 'NextBar1Price'] = df[df[bg_bar_number_name] == bg_bar_number + 1].iloc[-1].loc['ClosePrice']\n",
    "    \n",
    "    # Next Close Bar 2\n",
    "    trade_df.loc[row_index, 'NextBar2Price'] = df[df[bg_bar_number_name] == bg_bar_number + 2].iloc[-1].loc['ClosePrice']\n",
    "    \n",
    "    # Next Close Bar 3\n",
    "    trade_df.loc[row_index, 'NextBar3Price'] = df[df[bg_bar_number_name] == bg_bar_number + 3].iloc[-1].loc['ClosePrice']\n",
    "    \n",
    "    \n",
    "    bg_entry_bar_number = df.loc[trade_entry_time, bg_bar_number_name]\n",
    "    _df =  df[df[bg_bar_number_name].isin(list(range(bg_entry_bar_number, bg_bar_number + 4)))]\n",
    "    min_value = _df['LowPrice'].min()\n",
    "    max_value = _df['HighPrice'].max()\n",
    "    if row['Direction'] == 'Long':\n",
    "        trade_df.loc[row_index, 'MAE'] = min_value\n",
    "        trade_df.loc[row_index, 'MFE'] = max_value\n",
    "    else:\n",
    "        trade_df.loc[row_index, 'MAE'] = max_value\n",
    "        trade_df.loc[row_index, 'MFE'] = min_value\n",
    "    \n",
    "    \n",
    "    \n",
    "    "
   ]
  },
  {
   "cell_type": "code",
   "execution_count": null,
   "metadata": {},
   "outputs": [],
   "source": [
    "trade_df.to_csv(ticker + '_processed.csv', index=False);trade_df.head()"
   ]
  }
 ],
 "metadata": {
  "kernelspec": {
   "display_name": "Python 3",
   "language": "python",
   "name": "python3"
  },
  "language_info": {
   "codemirror_mode": {
    "name": "ipython",
    "version": 3
   },
   "file_extension": ".py",
   "mimetype": "text/x-python",
   "name": "python",
   "nbconvert_exporter": "python",
   "pygments_lexer": "ipython3",
   "version": "3.6.5"
  }
 },
 "nbformat": 4,
 "nbformat_minor": 2
}
