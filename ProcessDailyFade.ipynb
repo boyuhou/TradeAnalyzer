{
 "cells": [
  {
   "cell_type": "code",
   "execution_count": 1,
   "metadata": {},
   "outputs": [],
   "source": [
    "import pandas as pd\n",
    "import os\n",
    "import datetime"
   ]
  },
  {
   "cell_type": "code",
   "execution_count": 2,
   "metadata": {},
   "outputs": [
    {
     "data": {
      "text/plain": [
       "datetime.date(2019, 12, 26)"
      ]
     },
     "execution_count": 2,
     "metadata": {},
     "output_type": "execute_result"
    }
   ],
   "source": [
    "instrument_list=['AUDCAD','AUDCHF','AUDJPY','AUDNZD','AUDUSD','CADCHF','CADJPY','CHFJPY','EURAUD','EURCAD','EURCHF','EURGBP','EURJPY','EURUSD','GBPAUD','GBPCAD','GBPCHF','GBPJPY','GBPNZD','GBPUSD','NZDJPY','NZDUSD','USDCAD','USDCHF','USDJPY','CL##-##','ES##-##','NQ##-##']\n",
    "process_date = datetime.date.today();process_date"
   ]
  },
  {
   "cell_type": "code",
   "execution_count": 10,
   "metadata": {},
   "outputs": [],
   "source": [
    "folder_path = r'C:\\Users\\bhou\\proj\\trade\\Fade\\ID2'"
   ]
  },
  {
   "cell_type": "code",
   "execution_count": 13,
   "metadata": {},
   "outputs": [],
   "source": [
    "fade_list = []\n",
    "for instrument in instrument_list:\n",
    "    fade_path = os.path.join(folder_path, instrument + '.csv')\n",
    "    if os.path.isfile(fade_path):\n",
    "        fade_list.append(pd.read_csv(fade_path, names=['date', 'ticker', 'value']))\n",
    "df = pd.concat(fade_list).set_index(['date', 'ticker']).sort_index()"
   ]
  },
  {
   "cell_type": "code",
   "execution_count": 14,
   "metadata": {},
   "outputs": [
    {
     "data": {
      "text/html": [
       "<div>\n",
       "<style scoped>\n",
       "    .dataframe tbody tr th:only-of-type {\n",
       "        vertical-align: middle;\n",
       "    }\n",
       "\n",
       "    .dataframe tbody tr th {\n",
       "        vertical-align: top;\n",
       "    }\n",
       "\n",
       "    .dataframe thead th {\n",
       "        text-align: right;\n",
       "    }\n",
       "</style>\n",
       "<table border=\"1\" class=\"dataframe\">\n",
       "  <thead>\n",
       "    <tr style=\"text-align: right;\">\n",
       "      <th></th>\n",
       "      <th></th>\n",
       "      <th>value</th>\n",
       "    </tr>\n",
       "    <tr>\n",
       "      <th>date</th>\n",
       "      <th>ticker</th>\n",
       "      <th></th>\n",
       "    </tr>\n",
       "  </thead>\n",
       "  <tbody>\n",
       "    <tr>\n",
       "      <th>2019-12-27 03:01:39</th>\n",
       "      <th>EURAUD</th>\n",
       "      <td>-20</td>\n",
       "    </tr>\n",
       "    <tr>\n",
       "      <th>2019-12-27 03:16:52</th>\n",
       "      <th>GBPCAD</th>\n",
       "      <td>-20</td>\n",
       "    </tr>\n",
       "    <tr>\n",
       "      <th>2019-12-27 03:17:07</th>\n",
       "      <th>GBPAUD</th>\n",
       "      <td>-20</td>\n",
       "    </tr>\n",
       "    <tr>\n",
       "      <th>2019-12-27 03:17:19</th>\n",
       "      <th>GBPNZD</th>\n",
       "      <td>-20</td>\n",
       "    </tr>\n",
       "    <tr>\n",
       "      <th>2019-12-27 03:26:04</th>\n",
       "      <th>EURCAD</th>\n",
       "      <td>-20</td>\n",
       "    </tr>\n",
       "    <tr>\n",
       "      <th>2019-12-27 04:18:12</th>\n",
       "      <th>GBPAUD</th>\n",
       "      <td>-20</td>\n",
       "    </tr>\n",
       "    <tr>\n",
       "      <th>2019-12-27 04:49:42</th>\n",
       "      <th>GBPNZD</th>\n",
       "      <td>-20</td>\n",
       "    </tr>\n",
       "    <tr>\n",
       "      <th>2019-12-27 07:05:38</th>\n",
       "      <th>EURCAD</th>\n",
       "      <td>-20</td>\n",
       "    </tr>\n",
       "    <tr>\n",
       "      <th>2019-12-27 09:47:53</th>\n",
       "      <th>GBPNZD</th>\n",
       "      <td>-20</td>\n",
       "    </tr>\n",
       "    <tr>\n",
       "      <th>2019-12-27 10:47:28</th>\n",
       "      <th>CADCHF</th>\n",
       "      <td>10</td>\n",
       "    </tr>\n",
       "    <tr>\n",
       "      <th>2019-12-27 11:34:11</th>\n",
       "      <th>GBPAUD</th>\n",
       "      <td>10</td>\n",
       "    </tr>\n",
       "    <tr>\n",
       "      <th>2019-12-27 11:39:46</th>\n",
       "      <th>EURCAD</th>\n",
       "      <td>-10</td>\n",
       "    </tr>\n",
       "    <tr>\n",
       "      <th>2019-12-27 13:06:28</th>\n",
       "      <th>GBPCHF</th>\n",
       "      <td>20</td>\n",
       "    </tr>\n",
       "  </tbody>\n",
       "</table>\n",
       "</div>"
      ],
      "text/plain": [
       "                            value\n",
       "date                ticker       \n",
       "2019-12-27 03:01:39 EURAUD    -20\n",
       "2019-12-27 03:16:52 GBPCAD    -20\n",
       "2019-12-27 03:17:07 GBPAUD    -20\n",
       "2019-12-27 03:17:19 GBPNZD    -20\n",
       "2019-12-27 03:26:04 EURCAD    -20\n",
       "2019-12-27 04:18:12 GBPAUD    -20\n",
       "2019-12-27 04:49:42 GBPNZD    -20\n",
       "2019-12-27 07:05:38 EURCAD    -20\n",
       "2019-12-27 09:47:53 GBPNZD    -20\n",
       "2019-12-27 10:47:28 CADCHF     10\n",
       "2019-12-27 11:34:11 GBPAUD     10\n",
       "2019-12-27 11:39:46 EURCAD    -10\n",
       "2019-12-27 13:06:28 GBPCHF     20"
      ]
     },
     "execution_count": 14,
     "metadata": {},
     "output_type": "execute_result"
    }
   ],
   "source": [
    "df.loc['2019-12-27':]"
   ]
  },
  {
   "cell_type": "code",
   "execution_count": null,
   "metadata": {},
   "outputs": [],
   "source": []
  }
 ],
 "metadata": {
  "kernelspec": {
   "display_name": "Python 3",
   "language": "python",
   "name": "python3"
  },
  "language_info": {
   "codemirror_mode": {
    "name": "ipython",
    "version": 3
   },
   "file_extension": ".py",
   "mimetype": "text/x-python",
   "name": "python",
   "nbconvert_exporter": "python",
   "pygments_lexer": "ipython3",
   "version": "3.6.9"
  }
 },
 "nbformat": 4,
 "nbformat_minor": 4
}
