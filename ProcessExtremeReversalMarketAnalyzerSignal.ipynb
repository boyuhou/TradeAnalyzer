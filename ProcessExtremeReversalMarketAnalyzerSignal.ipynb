{
 "cells": [
  {
   "cell_type": "code",
   "execution_count": null,
   "metadata": {},
   "outputs": [],
   "source": [
    "import os\n",
    "import pandas as pd;pd.__version__"
   ]
  },
  {
   "cell_type": "code",
   "execution_count": null,
   "metadata": {},
   "outputs": [],
   "source": [
    "data_folder = r'DataOutput'\n",
    "source_file = r'MarketAnalyzerSource\\ExtremeReversalSignal.csv'"
   ]
  },
  {
   "cell_type": "code",
   "execution_count": null,
   "metadata": {},
   "outputs": [],
   "source": [
    "source_df = pd.read_csv(source_file, parse_dates=['DateTime'])\n",
    "tickers = source_df.Ticker.unique()\n",
    "data_dict = {}"
   ]
  },
  {
   "cell_type": "code",
   "execution_count": null,
   "metadata": {},
   "outputs": [],
   "source": [
    "bg_bar_number_name = 'Id2BarNumber'\n",
    "result = []\n",
    "for ticker in tickers:\n",
    "    print(ticker)\n",
    "    if ticker not in data_dict:\n",
    "        df = pd.read_csv(os.path.join(data_folder, ticker +'.csv'), parse_dates=['TickDateTime']).set_index('TickDateTime')\n",
    "        df = df.loc[~df.index.duplicated(keep='first')]\n",
    "        data_dict[ticker] = df\n",
    "        \n",
    "    trade_df = source_df[source_df['Ticker'] == ticker].set_index('DateTime')\n",
    "    for row_index, row in trade_df.iterrows():\n",
    "        df =data_dict[ticker].copy(deep=True)\n",
    "        matching_row_index = df[df.index >= row_index].index[0]\n",
    "        bg_bar_number = df.loc[matching_row_index, bg_bar_number_name]\n",
    "        trade_df.loc[row_index, 'Close'] = df.loc[matching_row_index, 'ClosePrice']\n",
    "        trade_df.loc[row_index, 'ATR'] = df.loc[matching_row_index, 'Id2Atr']\n",
    "        trade_df.loc[row_index, 'VAH'] = df.loc[matching_row_index, 'Id2VAH']\n",
    "        trade_df.loc[row_index, 'VAL'] = df.loc[matching_row_index, 'Id2VAL']\n",
    "        trade_df.loc[row_index, 'VPOC'] = df.loc[matching_row_index, 'Id2VPOC']\n",
    "        trade_df.loc[row_index, 'CurrentBarPrice'] = df[df[bg_bar_number_name] == bg_bar_number].iloc[-1].loc['ClosePrice']\n",
    "        trade_df.loc[row_index, 'NextBar1Price'] = df[df[bg_bar_number_name] == bg_bar_number + 1].iloc[-1].loc['ClosePrice']\n",
    "        trade_df.loc[row_index, 'NextBar2Price'] = df[df[bg_bar_number_name] == bg_bar_number + 2].iloc[-1].loc['ClosePrice']\n",
    "        trade_df.loc[row_index, 'NextBar3Price'] = df[df[bg_bar_number_name] == bg_bar_number + 3].iloc[-1].loc['ClosePrice']\n",
    "        _df =  df[df[bg_bar_number_name].isin(list(range(bg_bar_number, bg_bar_number + 3)))]\n",
    "        _df = _df[_df.index > row_index]\n",
    "        min_value = _df['LowPrice'].min()\n",
    "        max_value = _df['HighPrice'].max()\n",
    "        if row['Direction'] == 1:\n",
    "            trade_df.loc[row_index, 'MAE'] = min_value\n",
    "            trade_df.loc[row_index, 'MFE'] = max_value\n",
    "        else:\n",
    "            trade_df.loc[row_index, 'MAE'] = max_value\n",
    "            trade_df.loc[row_index, 'MFE'] = min_value\n",
    "    \n",
    "    result.append(trade_df)\n",
    "        \n",
    "        \n",
    "    "
   ]
  },
  {
   "cell_type": "code",
   "execution_count": null,
   "metadata": {},
   "outputs": [],
   "source": [
    "final_df = pd.concat(result, axis=0)"
   ]
  },
  {
   "cell_type": "code",
   "execution_count": null,
   "metadata": {},
   "outputs": [],
   "source": [
    "final_df.to_csv('ExtremeReversalEntry.csv')"
   ]
  },
  {
   "cell_type": "code",
   "execution_count": null,
   "metadata": {},
   "outputs": [],
   "source": []
  }
 ],
 "metadata": {
  "kernelspec": {
   "display_name": "Python 3",
   "language": "python",
   "name": "python3"
  },
  "language_info": {
   "codemirror_mode": {
    "name": "ipython",
    "version": 3
   },
   "file_extension": ".py",
   "mimetype": "text/x-python",
   "name": "python",
   "nbconvert_exporter": "python",
   "pygments_lexer": "ipython3",
   "version": "3.6.5"
  }
 },
 "nbformat": 4,
 "nbformat_minor": 2
}
